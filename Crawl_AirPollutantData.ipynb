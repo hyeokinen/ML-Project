{
 "cells": [
  {
   "cell_type": "markdown",
   "metadata": {},
   "source": [
    "# Crawl_AirPollutantData"
   ]
  },
  {
   "cell_type": "code",
   "execution_count": 1,
   "metadata": {},
   "outputs": [],
   "source": [
    "import requests\n",
    "import datetime\n",
    "import threading\n",
    "import time"
   ]
  },
  {
   "cell_type": "markdown",
   "metadata": {},
   "source": [
    "|변수명|타입|변수설명|값설명|\n",
    "|---|---|---|---|\n",
    "|KEY|String(필수)|인증키|OpenAPI 에서 발급된 인증키|\n",
    "|TYPE|String(필수)|요청파일타입|xml : xml, xml파일 : xmlf, 엑셀파일 : xls, json파일 : json|\n",
    "|SERVICE|String(필수)|서비스명|TimeAverageAirQuality|\n",
    "|START_INDEX|INTEGER(필수)|요청시작위치|정수 입력 (페이징 시작번호 입니다 : 데이터 행 시작번호)|\n",
    "|END_INDEX|INTEGER(필수)|요청종료위치|정수 입력 (페이징 끝번호 입니다 : 데이터 행 끝번호)|\n",
    "|MSRDT|STRING(필수)|측정일시|'YYYYMMDDHH24MI'|\n",
    "|MSRSTE_NM|STRING(선택)|측정소명|문자열|"
   ]
  },
  {
   "cell_type": "code",
   "execution_count": 2,
   "metadata": {},
   "outputs": [],
   "source": [
    "with open(\"./seoul_api_key.txt\", \"r\") as f:\n",
    "    api_key = f.read().replace(\"\\n\", \"\")"
   ]
  },
  {
   "cell_type": "code",
   "execution_count": 3,
   "metadata": {},
   "outputs": [],
   "source": [
    "def get_json(url):\n",
    "    response = requests.get(url)\n",
    "    response_json = response.json()\n",
    "    return pd.DataFrame(response_json[\"TimeAverageAirQuality\"][\"row\"])\n",
    "         \n",
    "def get_pollution_data(start_date, end_date, api_key):\n",
    "    dates = list(map(lambda x: x.replace(\"-\", \"\"), list(pd.date_range(start_date, end_date).astype(str))))\n",
    "    urls = [\"http://openapi.seoul.go.kr:8088/{}/json/TimeAverageAirQuality/1/1000/{}\".format(api_key, date) for date in dates]\n",
    "    th_urls = [\n",
    "        urls[:len(urls)//6],\n",
    "        urls[len(urls)//6:2*(len(urls)//6)],\n",
    "        urls[2*(len(urls)//6):3*(len(urls)//6)],\n",
    "        urls[3*(len(urls)//6):4*(len(urls)//6)],\n",
    "        urls[4*(len(urls)//6):5*(len(urls)//6)],\n",
    "        urls[5*(len(urls)//6):],\n",
    "    ]\n",
    "    \n",
    "    pollution_ls = []\n",
    "    def crawling(urls):\n",
    "        for url in urls:\n",
    "            pollution_ls.append(get_json(url))\n",
    "\n",
    "    \n",
    "    for th_url in th_urls:\n",
    "        th = threading.Thread(target=crawling, args = (th_url,))\n",
    "        th.start()\n",
    "\n",
    "    count = sec = 0\n",
    "    while count < len(urls):\n",
    "        time.sleep(5)\n",
    "        sec += 5\n",
    "        count = len(pollution_ls)\n",
    "        print(\"{}초 경과. 수집된 데이터 수: {}\".format(sec, count))      \n",
    "    df = pd.concat(pollution_ls, sort = False)\n",
    "    df[\"MSRDT\"] = df[\"MSRDT\"].apply(lambda date : datetime.datetime.strptime(str(date), \"%Y%m%d%H%M\"))\n",
    "    df.sort_values(by = [\"MSRDT\"], inplace = True)\n",
    "    return df[[\"MSRDT\", \"MSRSTE_NM\", \"NO2\", \"O3\", \"CO\", \"PM10\", \"PM25\", \"SO2\"]].reset_index(drop=True)"
   ]
  },
  {
   "cell_type": "code",
   "execution_count": 4,
   "metadata": {},
   "outputs": [
    {
     "name": "stdout",
     "output_type": "stream",
     "text": [
      "5초 경과. 수집된 데이터 수: 254\n",
      "10초 경과. 수집된 데이터 수: 475\n",
      "15초 경과. 수집된 데이터 수: 698\n",
      "20초 경과. 수집된 데이터 수: 946\n",
      "25초 경과. 수집된 데이터 수: 1188\n",
      "30초 경과. 수집된 데이터 수: 1334\n",
      "35초 경과. 수집된 데이터 수: 1351\n"
     ]
    }
   ],
   "source": [
    "start_date, end_date = \"2015-09-19\", \"2019-05-31\"\n",
    "df_pollution = get_pollution_data(start_date, end_date, api_key)"
   ]
  },
  {
   "cell_type": "code",
   "execution_count": 5,
   "metadata": {},
   "outputs": [],
   "source": [
    "df_pollution.to_csv(\"../data/raw/dust_hour.csv\", encoding = \"euc-kr\", index = False)"
   ]
  },
  {
   "cell_type": "code",
   "execution_count": 6,
   "metadata": {},
   "outputs": [
    {
     "data": {
      "text/plain": [
       "MSRDT        datetime64[ns]\n",
       "MSRSTE_NM            object\n",
       "NO2                 float64\n",
       "O3                  float64\n",
       "CO                  float64\n",
       "PM10                float64\n",
       "PM25                float64\n",
       "SO2                 float64\n",
       "dtype: object"
      ]
     },
     "execution_count": 6,
     "metadata": {},
     "output_type": "execute_result"
    }
   ],
   "source": [
    "df_pollution.dtypes"
   ]
  }
 ],
 "metadata": {
  "kernelspec": {
   "display_name": "Python 3",
   "language": "python",
   "name": "python3"
  },
  "language_info": {
   "codemirror_mode": {
    "name": "ipython",
    "version": 3
   },
   "file_extension": ".py",
   "mimetype": "text/x-python",
   "name": "python",
   "nbconvert_exporter": "python",
   "pygments_lexer": "ipython3",
   "version": "3.7.4"
  }
 },
 "nbformat": 4,
 "nbformat_minor": 2
}
